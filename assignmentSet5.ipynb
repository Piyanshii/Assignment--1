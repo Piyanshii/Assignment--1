{
  "nbformat": 4,
  "nbformat_minor": 0,
  "metadata": {
    "colab": {
      "provenance": [],
      "authorship_tag": "ABX9TyNgZlXR2kKLstVCseJQuTiR"
    },
    "kernelspec": {
      "name": "python3",
      "display_name": "Python 3"
    },
    "language_info": {
      "name": "python"
    }
  },
  "cells": [
    {
      "cell_type": "code",
      "execution_count": null,
      "metadata": {
        "colab": {
          "base_uri": "https://localhost:8080/"
        },
        "id": "OEOinJlagOrq",
        "outputId": "898e1bab-1e0e-479f-e7f5-9273acbb7cb4"
      },
      "outputs": [
        {
          "output_type": "stream",
          "name": "stdout",
          "text": [
            "Housing Price Prediction Model\n",
            "Dataset loaded successfully.\n",
            "\n",
            "Dataset Information:\n",
            "<class 'pandas.core.frame.DataFrame'>\n",
            "RangeIndex: 20640 entries, 0 to 20639\n",
            "Data columns (total 10 columns):\n",
            " #   Column              Non-Null Count  Dtype  \n",
            "---  ------              --------------  -----  \n",
            " 0   longitude           20640 non-null  float64\n",
            " 1   latitude            20640 non-null  float64\n",
            " 2   housing_median_age  20640 non-null  float64\n",
            " 3   total_rooms         20640 non-null  float64\n",
            " 4   total_bedrooms      20433 non-null  float64\n",
            " 5   population          20640 non-null  float64\n",
            " 6   households          20640 non-null  float64\n",
            " 7   median_income       20640 non-null  float64\n",
            " 8   median_house_value  20640 non-null  float64\n",
            " 9   ocean_proximity     20640 non-null  object \n",
            "dtypes: float64(9), object(1)\n",
            "memory usage: 1.6+ MB\n",
            "None\n",
            "\n",
            "Model Evaluation:\n",
            "R-squared Score      : 0.6488\n",
            "Mean Squared Error   : 4802173538.60\n"
          ]
        }
      ],
      "source": [
        "import pandas as pd\n",
        "from sklearn.model_selection import train_test_split\n",
        "from sklearn.linear_model import LinearRegression\n",
        "from sklearn.metrics import r2_score, mean_squared_error\n",
        "\n",
        "print(\"Housing Price Prediction Model\")\n",
        "try:\n",
        "    df = pd.read_csv(\"/content/housing.csv\")\n",
        "    print(\"Dataset loaded successfully.\")\n",
        "except FileNotFoundError:\n",
        "    print(\"Error: File not found.\")\n",
        "    exit()\n",
        "except pd.errors.EmptyDataError:\n",
        "    print(\"Error: File is empty.\")\n",
        "    exit()\n",
        "except pd.errors.ParserError:\n",
        "    print(\"Error: File is corrupted or improperly formatted.\")\n",
        "    exit()\n",
        "\n",
        "print(\"\\nDataset Information:\")\n",
        "print(df.info())\n",
        "\n",
        "df = df.dropna()\n",
        "\n",
        "df = pd.get_dummies(df, columns=['ocean_proximity'], drop_first=True)\n",
        "\n",
        "X = df.drop(columns=['median_house_value'])\n",
        "y = df['median_house_value']\n",
        "\n",
        "X_train, X_test, y_train, y_test = train_test_split(\n",
        "    X, y, test_size=0.2, random_state=42\n",
        ")\n",
        "\n",
        "model = LinearRegression()\n",
        "model.fit(X_train, y_train)\n",
        "\n",
        "y_pred = model.predict(X_test)\n",
        "\n",
        "r2 = r2_score(y_test, y_pred)\n",
        "mse = mean_squared_error(y_test, y_pred)\n",
        "\n",
        "print(\"\\nModel Evaluation:\")\n",
        "print(f\"R-squared Score      : {r2:.4f}\")\n",
        "print(f\"Mean Squared Error   : {mse:.2f}\")\n"
      ]
    }
  ]
}